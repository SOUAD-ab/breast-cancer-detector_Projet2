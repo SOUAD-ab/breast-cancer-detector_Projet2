{
 "cells": [
  {
   "cell_type": "code",
   "execution_count": 1,
   "metadata": {},
   "outputs": [],
   "source": [
    "# 📦 Import des bibliothèques\n",
    "import tensorflow as tf\n",
    "from tensorflow.keras.preprocessing.image import ImageDataGenerator\n",
    "import os"
   ]
  },
  {
   "cell_type": "code",
   "execution_count": 2,
   "metadata": {},
   "outputs": [],
   "source": [
    "# 📁 Définition des chemins des données\n",
    "train_dir = r\"C:\\Users\\Souad.ABOUD\\Documents\\LAB\\ProjetDL\\Dataset_BUSI_with_GT\\train\"\n",
    "test_dir = r\"C:\\Users\\Souad.ABOUD\\Documents\\LAB\\ProjetDL\\Dataset_BUSI_with_GT\\test\"\n"
   ]
  },
  {
   "cell_type": "code",
   "execution_count": 3,
   "metadata": {},
   "outputs": [],
   "source": [
    "# ⚙️ Création du générateur de données avec augmentation\n",
    "datagen = ImageDataGenerator(\n",
    "    rescale=1./255,          # Normalisation\n",
    "    rotation_range=20,       # Rotation aléatoire\n",
    "    zoom_range=0.2,          # Zoom aléatoire\n",
    "    horizontal_flip=True,    # Flip horizontal\n",
    "    validation_split=0.2     # 20% pour validation\n",
    ")"
   ]
  },
  {
   "cell_type": "code",
   "execution_count": 4,
   "metadata": {},
   "outputs": [
    {
     "name": "stdout",
     "output_type": "stream",
     "text": [
      "Found 1263 images belonging to 3 classes.\n"
     ]
    }
   ],
   "source": [
    "# 📤 Chargement des images pour l'entraînement\n",
    "train_data = datagen.flow_from_directory(\n",
    "    train_dir,\n",
    "    target_size=(224, 224),\n",
    "    batch_size=32,\n",
    "    class_mode='binary',     # Deux classes : cancer vs normal\n",
    "    subset='training'        # Sous-ensemble pour entraînement\n",
    ")"
   ]
  },
  {
   "cell_type": "code",
   "execution_count": 11,
   "metadata": {},
   "outputs": [
    {
     "name": "stdout",
     "output_type": "stream",
     "text": [
      "Found 315 images belonging to 3 classes.\n"
     ]
    }
   ],
   "source": [
    "# 📤 Chargement des images pour la validation\n",
    "val_data = datagen.flow_from_directory(\n",
    "    train_dir,\n",
    "    target_size=(224, 224),\n",
    "    batch_size=32,\n",
    "    class_mode='binary',\n",
    "    subset='validation'      # Sous-ensemble pour validation\n",
    ")\n"
   ]
  },
  {
   "cell_type": "code",
   "execution_count": 13,
   "metadata": {},
   "outputs": [
    {
     "name": "stdout",
     "output_type": "stream",
     "text": [
      "Prétraitement terminé ✅\n"
     ]
    }
   ],
   "source": [
    "print(\"Prétraitement terminé ✅\")\n"
   ]
  },
  {
   "cell_type": "code",
   "execution_count": 8,
   "metadata": {},
   "outputs": [
    {
     "name": "stdout",
     "output_type": "stream",
     "text": [
      "c:\\Users\\Souad.ABOUD\\AppData\\Local\\Programs\\Microsoft VS Code\n"
     ]
    }
   ],
   "source": [
    "import os\n",
    "print(os.getcwd())"
   ]
  }
 ],
 "metadata": {
  "kernelspec": {
   "display_name": "Python 3",
   "language": "python",
   "name": "python3"
  },
  "language_info": {
   "codemirror_mode": {
    "name": "ipython",
    "version": 3
   },
   "file_extension": ".py",
   "mimetype": "text/x-python",
   "name": "python",
   "nbconvert_exporter": "python",
   "pygments_lexer": "ipython3",
   "version": "3.12.8"
  }
 },
 "nbformat": 4,
 "nbformat_minor": 2
}
